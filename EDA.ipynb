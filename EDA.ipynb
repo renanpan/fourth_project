{
  "metadata": {
    "kernelspec": {
      "name": "python",
      "display_name": "Python (Pyodide)",
      "language": "python"
    },
    "language_info": {
      "codemirror_mode": {
        "name": "python",
        "version": 3
      },
      "file_extension": ".py",
      "mimetype": "text/x-python",
      "name": "python",
      "nbconvert_exporter": "python",
      "pygments_lexer": "ipython3",
      "version": "3.8"
    }
  },
  "nbformat_minor": 5,
  "nbformat": 4,
  "cells": [
    {
      "cell_type": "code",
      "source": "#importando as bibliotecas necessárias\nimport pandas as pd\nimport plotly.express as px",
      "metadata": {
        "trusted": true
      },
      "execution_count": 2,
      "outputs": [
        {
          "ename": "<class 'ModuleNotFoundError'>",
          "evalue": "No module named 'plotly'",
          "traceback": [
            "\u001b[0;31m---------------------------------------------------------------------------\u001b[0m",
            "\u001b[0;31mModuleNotFoundError\u001b[0m                       Traceback (most recent call last)",
            "Cell \u001b[0;32mIn[2], line 2\u001b[0m\n\u001b[1;32m      1\u001b[0m \u001b[38;5;28;01mimport\u001b[39;00m \u001b[38;5;21;01mpandas\u001b[39;00m \u001b[38;5;28;01mas\u001b[39;00m \u001b[38;5;21;01mpd\u001b[39;00m\n\u001b[0;32m----> 2\u001b[0m \u001b[38;5;28;01mimport\u001b[39;00m \u001b[38;5;21;01mplotly\u001b[39;00m\u001b[38;5;21;01m.\u001b[39;00m\u001b[38;5;21;01mexpress\u001b[39;00m \u001b[38;5;28;01mas\u001b[39;00m \u001b[38;5;21;01mpx\u001b[39;00m\n",
            "\u001b[0;31mModuleNotFoundError\u001b[0m: No module named 'plotly'"
          ],
          "output_type": "error"
        }
      ],
      "id": "e15d5d1e-5e6a-4325-977e-b4bb5d9bebd3"
    },
    {
      "cell_type": "code",
      "source": "#lendo o arquivo de dados\ncar_data = pd.read_csv('vehicles.csv') # lendo os dado\n\n#obtendo as informações do DataFrame\ncar_data.info() ",
      "metadata": {},
      "execution_count": null,
      "outputs": [],
      "id": "44b7215b-ec91-46ac-9648-1a2060dee4b2"
    },
    {
      "cell_type": "code",
      "source": "#obtendo as 5 primeiras linhas do DataFrame\nprint(car_data.head())",
      "metadata": {},
      "execution_count": null,
      "outputs": [],
      "id": "84c0af1e-896e-4d4b-b4c1-805d9de6e014"
    },
    {
      "cell_type": "code",
      "source": "#Criando um histograma\nfig = px.histogram(car_data, x=\"odometer\") # criar um histograma\nfig.show() # exibindo ",
      "metadata": {},
      "execution_count": null,
      "outputs": [],
      "id": "72f330c9-888a-4a69-a6fa-64b660bd6ea8"
    },
    {
      "cell_type": "code",
      "source": "#criando um gráfico de dispersão\nfig = px.scatter(car_data, x=\"odometer\", y=\"price\") # criar um gráfico de dispersão\nfig.show() # exibindo ",
      "metadata": {},
      "execution_count": null,
      "outputs": [],
      "id": "fe6234ec-04b2-490d-9c8b-255093eb4572"
    }
  ]
}