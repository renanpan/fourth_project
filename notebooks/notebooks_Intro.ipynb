{
  "metadata": {
    "kernelspec": {
      "name": "python",
      "display_name": "Python (Pyodide)",
      "language": "python"
    },
    "language_info": {
      "codemirror_mode": {
        "name": "python",
        "version": 3
      },
      "file_extension": ".py",
      "mimetype": "text/x-python",
      "name": "python",
      "nbconvert_exporter": "python",
      "pygments_lexer": "ipython3",
      "version": "3.8"
    }
  },
  "nbformat_minor": 5,
  "nbformat": 4,
  "cells": [
    {
      "cell_type": "code",
      "source": "import pandas as pd\nimport plotly_express as px\n\n\ncar_data = pd.read_csv('vehicles.csv') # lendo os dado\n\n#Criando um histograma\nfig = px.histogram(car_data, x=\"odometer\") # criar um histograma\nfig.show() # exibindo \n\n#criando um gráfico de dispersão\nfig = px.scatter(car_data, x=\"odometer\", y=\"price\") # criar um gráfico de dispersão\nfig.show() # exibindo \n",
      "metadata": {},
      "execution_count": null,
      "outputs": [],
      "id": "e15d5d1e-5e6a-4325-977e-b4bb5d9bebd3"
    }
  ]
}