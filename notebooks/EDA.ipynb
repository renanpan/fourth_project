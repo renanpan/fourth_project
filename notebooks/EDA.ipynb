import streamlit as st
import pandas as pd
import plotly_express as px


car_data = pd.read_csv('vehicles.csv') # lendo os dado

#Criando um histograma
fig = px.histogram(car_data, x="odometer") # criar um histograma
fig.show() # exibindo 

#criando um gráfico de dispersão
fig = px.scatter(car_data, x="odometer", y="price") # criar um gráfico de dispersão
fig.show() # exibindo 
